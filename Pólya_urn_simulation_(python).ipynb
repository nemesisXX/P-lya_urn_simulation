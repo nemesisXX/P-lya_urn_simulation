{
  "nbformat": 4,
  "nbformat_minor": 0,
  "metadata": {
    "colab": {
      "provenance": []
    },
    "kernelspec": {
      "name": "python3",
      "display_name": "Python 3"
    },
    "language_info": {
      "name": "python"
    },
    "accelerator": "GPU",
    "gpuClass": "standard"
  },
  "cells": [
    {
      "cell_type": "markdown",
      "source": [
        "At time 0, an urn contains 1 black ball and 1 white ball. At each time $1, 2, 3, . . . ,$ a ball is chosen at random from the urn and is replaced together with a new ball of the same color. Just after time $n$, there are therefore $n + 2$ balls in the urn, of which $B_n + 1$ are black, where Bn is the number of black balls chose by time $n$.\n",
        "\n",
        "Simulate this model with a computer until the number of balls in the urn is $1000$. Do this simulation at least $2000$ times and note how many times the fraction of black balls is in the interval $[0, 0.05), [0.05, 0.1, . . . [0.95, 1)$."
      ],
      "metadata": {
        "id": "AgPf_oG-PrBU"
      }
    },
    {
      "cell_type": "code",
      "source": [
        "from numpy import random\n",
        "import numpy as np\n",
        "import matplotlib.pyplot as plt\n",
        "\n",
        "\n",
        "class Urn:\n",
        "    def __init__(self, black=1, white=1):\n",
        "        self.black = black\n",
        "        self.white = white\n",
        "\n",
        "    def draw(self):\n",
        "        balls = self.black + self.white\n",
        "        prob_dist = [self.black / balls, self.white / balls]\n",
        "        result = random.choice([\"black\", \"white\"], p=prob_dist)\n",
        "        return result\n",
        "\n",
        "    def update(self):\n",
        "        draw = self.draw()\n",
        "        if draw == \"black\":\n",
        "            self.black += 1\n",
        "        elif draw == \"white\":\n",
        "            self.white += 1"
      ],
      "metadata": {
        "id": "dM9MiqPP3SGX"
      },
      "execution_count": 2,
      "outputs": []
    },
    {
      "cell_type": "code",
      "source": [
        "def polyas_urn(num_draws1=998, num_trials=100):\n",
        "    \"\"\"\n",
        "    Function for running experiments on the Polya Urn model\n",
        "    \"\"\"\n",
        "    trials1 = np.zeros(num_trials)\n",
        "    for j in range(num_trials):\n",
        "        urn = Urn()\n",
        "        for i in range(num_draws1):\n",
        "            urn.update()\n",
        "        trials1[j] = urn.black / num_draws1\n",
        "    return trials1"
      ],
      "metadata": {
        "id": "IzE7hf7V_b7U"
      },
      "execution_count": 3,
      "outputs": []
    },
    {
      "cell_type": "code",
      "source": [
        "bin_edges = [np.round(0.05 * i, 2) for i in range(21)]\n",
        "trials = polyas_urn(num_trials=2000)\n",
        "hist = np.histogram(trials, bin_edges)"
      ],
      "metadata": {
        "id": "1qoHFhMx_znE"
      },
      "execution_count": 4,
      "outputs": []
    },
    {
      "cell_type": "code",
      "source": [
        "plt.hist(trials, bin_edges)\n",
        "\n",
        "plt.xlabel(\"trials\")\n",
        "plt.ylabel(\"count\")\n",
        "\n",
        "plt.title(\"Histogram of proportion of black balls\")\n",
        "plt.xticks(bin_edges, bin_edges, rotation = 45)\n",
        "plt.show()"
      ],
      "metadata": {
        "colab": {
          "base_uri": "https://localhost:8080/",
          "height": 308
        },
        "id": "kvxVUIZlL9h5",
        "outputId": "c83c70a5-2bc4-400e-be17-012330c4604b"
      },
      "execution_count": 5,
      "outputs": [
        {
          "output_type": "display_data",
          "data": {
            "text/plain": [
              "<Figure size 432x288 with 1 Axes>"
            ],
            "image/png": "[encoded data removed]"
          },
          "metadata": {
            "needs_background": "light"
          }
        }
      ]
    },
    {
      "cell_type": "markdown",
      "source": [
        "From this, we can see that the times of the fraction of black balls, Mn, is a uniform distribution.\n"
      ],
      "metadata": {
        "id": "pkG_N-ISPLwM"
      }
    }
  ]
}